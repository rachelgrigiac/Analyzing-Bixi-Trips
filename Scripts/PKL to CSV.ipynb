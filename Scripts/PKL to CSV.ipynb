{
 "cells": [
  {
   "cell_type": "code",
   "execution_count": 1,
   "id": "7ddc8a6d",
   "metadata": {},
   "outputs": [],
   "source": [
    "import pandas as pd\n",
    "import numpy as np\n",
    "import os"
   ]
  },
  {
   "cell_type": "code",
   "execution_count": 2,
   "id": "1f3ac1aa",
   "metadata": {},
   "outputs": [],
   "source": [
    "path = r'/Users/rachelgrigiac/Documents/CareerFoundry/BIXI Project Analysis/02 Data'"
   ]
  },
  {
   "cell_type": "code",
   "execution_count": 3,
   "id": "177af4c1",
   "metadata": {},
   "outputs": [],
   "source": [
    "df = pd.read_pickle(os.path.join(path, 'Prepared Data', 'bixitrips_weather_last.pkl'))"
   ]
  },
  {
   "cell_type": "code",
   "execution_count": 4,
   "id": "756bab78",
   "metadata": {},
   "outputs": [],
   "source": [
    "df.to_csv(os.path.join(path, 'Prepared Data', 'bixitrips_weather_last.csv'))"
   ]
  },
  {
   "cell_type": "code",
   "execution_count": 5,
   "id": "3c88565a",
   "metadata": {},
   "outputs": [],
   "source": [
    "df2 = pd.read_pickle(os.path.join(path, 'Prepared Data', 'bixi_stations_2020.pkl'))"
   ]
  },
  {
   "cell_type": "code",
   "execution_count": 6,
   "id": "15d3a68e",
   "metadata": {},
   "outputs": [],
   "source": [
    "df2.to_csv(os.path.join(path, 'Prepared Data', 'bixi_stations_2020.csv'))"
   ]
  },
  {
   "cell_type": "code",
   "execution_count": 4,
   "id": "ba6f2ba3",
   "metadata": {},
   "outputs": [],
   "source": [
    "# Create a 30% random sample\n",
    "sampled_df = df.sample(frac=0.3, random_state=1)"
   ]
  },
  {
   "cell_type": "code",
   "execution_count": 6,
   "id": "b1a19e0f",
   "metadata": {},
   "outputs": [
    {
     "data": {
      "text/plain": [
       "(18394028, 28)"
      ]
     },
     "execution_count": 6,
     "metadata": {},
     "output_type": "execute_result"
    }
   ],
   "source": [
    "df.shape"
   ]
  },
  {
   "cell_type": "code",
   "execution_count": 8,
   "id": "b63527ec",
   "metadata": {},
   "outputs": [
    {
     "data": {
      "text/plain": [
       "(5518208, 28)"
      ]
     },
     "execution_count": 8,
     "metadata": {},
     "output_type": "execute_result"
    }
   ],
   "source": [
    "sampled_df.shape"
   ]
  },
  {
   "cell_type": "code",
   "execution_count": 9,
   "id": "4be6a517",
   "metadata": {},
   "outputs": [],
   "source": [
    "sampled_df.to_csv(os.path.join(path, 'Prepared Data', 'bixitrips_weather_sample.csv'))"
   ]
  },
  {
   "cell_type": "code",
   "execution_count": null,
   "id": "d5009348",
   "metadata": {},
   "outputs": [],
   "source": []
  }
 ],
 "metadata": {
  "kernelspec": {
   "display_name": "Python 3 (ipykernel)",
   "language": "python",
   "name": "python3"
  },
  "language_info": {
   "codemirror_mode": {
    "name": "ipython",
    "version": 3
   },
   "file_extension": ".py",
   "mimetype": "text/x-python",
   "name": "python",
   "nbconvert_exporter": "python",
   "pygments_lexer": "ipython3",
   "version": "3.11.7"
  }
 },
 "nbformat": 4,
 "nbformat_minor": 5
}
